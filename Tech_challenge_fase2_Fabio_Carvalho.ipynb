{
  "cells": [
    {
      "cell_type": "markdown",
      "metadata": {
        "id": "view-in-github",
        "colab_type": "text"
      },
      "source": [
        "<a href=\"https://colab.research.google.com/github/FLCarvalho/TechChallenge_fase2_indice_bovespa/blob/main/Tech_challenge_fase2_Fabio_Carvalho.ipynb\" target=\"_parent\"><img src=\"https://colab.research.google.com/assets/colab-badge.svg\" alt=\"Open In Colab\"/></a>"
      ]
    },
    {
      "cell_type": "markdown",
      "metadata": {
        "id": "MwKx6pMSxgNX"
      },
      "source": [
        "# 0. Bibliotecas e importações"
      ]
    },
    {
      "cell_type": "code",
      "execution_count": null,
      "metadata": {
        "id": "bIO4hbJ-w7SH"
      },
      "outputs": [],
      "source": [
        "import pandas as pd\n",
        "import numpy as np\n",
        "import matplotlib.pyplot as plt\n",
        "import statsmodels.api as sm\n",
        "import seaborn as sns\n",
        "\n",
        "from statsmodels.tsa.stattools import adfuller\n",
        "from statsmodels.graphics.tsaplots import plot_acf, plot_pacf\n",
        "from statsmodels.tsa.stattools import acf, pacf\n",
        "from statsmodels.tsa.arima.model import ARIMA\n",
        "from sklearn.metrics import accuracy_score, confusion_matrix, classification_report\n",
        "from statsmodels.tsa.seasonal import seasonal_decompose\n",
        "from sklearn.metrics import confusion_matrix\n",
        "from sklearn.model_selection import train_test_split\n",
        "from sklearn.preprocessing import StandardScaler\n",
        "from sklearn.ensemble import RandomForestClassifier\n",
        "from sklearn.neighbors import KNeighborsClassifier\n",
        "from sklearn.metrics import accuracy_score, confusion_matrix, f1_score\n",
        "from sklearn.model_selection import cross_val_score\n",
        "\n",
        "\n",
        "import warnings\n",
        "warnings.filterwarnings(\"ignore\")\n",
        "\n",
        "# Formatação global\n",
        "pd.options.display.float_format = '{:,.2f}'.format  # Pandas: sempre 2 casas decimais\n",
        "np.set_printoptions(precision=2, suppress=True)     # Numpy: sempre 2 casas decimais, sem notação científica"
      ]
    },
    {
      "cell_type": "markdown",
      "metadata": {
        "id": "NbHzGCuEyi73"
      },
      "source": [
        "# 1. Importação da base de dados"
      ]
    },
    {
      "cell_type": "code",
      "execution_count": null,
      "metadata": {
        "colab": {
          "base_uri": "https://localhost:8080/"
        },
        "id": "heJT_4xUxlkL",
        "outputId": "d4339285-2e28-4264-b1c4-04b24e9e6602"
      },
      "outputs": [
        {
          "name": "stdout",
          "output_type": "stream",
          "text": [
            "<class 'pandas.core.frame.DataFrame'>\n",
            "RangeIndex: 3922 entries, 0 to 3921\n",
            "Data columns (total 7 columns):\n",
            " #   Column    Non-Null Count  Dtype  \n",
            "---  ------    --------------  -----  \n",
            " 0   Data      3922 non-null   object \n",
            " 1   Último    3922 non-null   float64\n",
            " 2   Abertura  3922 non-null   float64\n",
            " 3   Máxima    3922 non-null   float64\n",
            " 4   Mínima    3922 non-null   float64\n",
            " 5   Vol.      3921 non-null   object \n",
            " 6   Var%      3922 non-null   object \n",
            "dtypes: float64(4), object(3)\n",
            "memory usage: 214.6+ KB\n"
          ]
        }
      ],
      "source": [
        "df = pd.read_csv('https://raw.githubusercontent.com/FLCarvalho/TechChallenge_fase2_indice_bovespa/refs/heads/main/Dados_Historicos_Ibovespa_2010_2025.csv')\n",
        "df.info()"
      ]
    },
    {
      "cell_type": "code",
      "execution_count": null,
      "metadata": {
        "colab": {
          "base_uri": "https://localhost:8080/"
        },
        "id": "WjuRGq051E_J",
        "outputId": "df53bdc3-200d-47b2-ba4a-0649b26a39df"
      },
      "outputs": [
        {
          "name": "stdout",
          "output_type": "stream",
          "text": [
            "linhas: 3,922\n",
            "colunas: 7\n"
          ]
        }
      ],
      "source": [
        "print(f\"linhas: {df.shape[0]:,}\\ncolunas: {df.shape[1]}\")"
      ]
    },
    {
      "cell_type": "code",
      "execution_count": null,
      "metadata": {
        "colab": {
          "base_uri": "https://localhost:8080/",
          "height": 206
        },
        "id": "pOyFtHl-05pd",
        "outputId": "dba787a7-46cb-44e2-e8b6-6e71c2531535"
      },
      "outputs": [
        {
          "data": {
            "application/vnd.google.colaboratory.intrinsic+json": {
              "summary": "{\n  \"name\": \"df\",\n  \"rows\": 3922,\n  \"fields\": [\n    {\n      \"column\": \"Data\",\n      \"properties\": {\n        \"dtype\": \"object\",\n        \"num_unique_values\": 3922,\n        \"samples\": [\n          \"24.10.2011\",\n          \"18.12.2023\",\n          \"05.09.2014\"\n        ],\n        \"semantic_type\": \"\",\n        \"description\": \"\"\n      }\n    },\n    {\n      \"column\": \"\\u00daltimo\",\n      \"properties\": {\n        \"dtype\": \"number\",\n        \"std\": 29.19752412137824,\n        \"min\": 37.497,\n        \"max\": 146.492,\n        \"num_unique_values\": 3807,\n        \"samples\": [\n          110.25,\n          56.864,\n          57.495\n        ],\n        \"semantic_type\": \"\",\n        \"description\": \"\"\n      }\n    },\n    {\n      \"column\": \"Abertura\",\n      \"properties\": {\n        \"dtype\": \"number\",\n        \"std\": 29.181479389132537,\n        \"min\": 37.501,\n        \"max\": 146.492,\n        \"num_unique_values\": 3809,\n        \"samples\": [\n          116.191,\n          67.844,\n          61.972\n        ],\n        \"semantic_type\": \"\",\n        \"description\": \"\"\n      }\n    },\n    {\n      \"column\": \"M\\u00e1xima\",\n      \"properties\": {\n        \"dtype\": \"number\",\n        \"std\": 29.33431578289687,\n        \"min\": 38.031,\n        \"max\": 147.578,\n        \"num_unique_values\": 3818,\n        \"samples\": [\n          54.919,\n          117.333,\n          65.291\n        ],\n        \"semantic_type\": \"\",\n        \"description\": \"\"\n      }\n    },\n    {\n      \"column\": \"M\\u00ednima\",\n      \"properties\": {\n        \"dtype\": \"number\",\n        \"std\": 29.048138681955923,\n        \"min\": 37.046,\n        \"max\": 146.067,\n        \"num_unique_values\": 3811,\n        \"samples\": [\n          54.07,\n          86.328,\n          108.8\n        ],\n        \"semantic_type\": \"\",\n        \"description\": \"\"\n      }\n    },\n    {\n      \"column\": \"Vol.\",\n      \"properties\": {\n        \"dtype\": \"category\",\n        \"num_unique_values\": 1391,\n        \"samples\": [\n          \"2,37M\",\n          \"8,31B\",\n          \"943,30K\"\n        ],\n        \"semantic_type\": \"\",\n        \"description\": \"\"\n      }\n    },\n    {\n      \"column\": \"Var%\",\n      \"properties\": {\n        \"dtype\": \"category\",\n        \"num_unique_values\": 685,\n        \"samples\": [\n          \"-2,12%\",\n          \"-2,27%\",\n          \"0,53%\"\n        ],\n        \"semantic_type\": \"\",\n        \"description\": \"\"\n      }\n    }\n  ]\n}",
              "type": "dataframe",
              "variable_name": "df"
            },
            "text/html": [
              "\n",
              "  <div id=\"df-51957b8f-3b71-473a-a966-b9e346b5d510\" class=\"colab-df-container\">\n",
              "    <div>\n",
              "<style scoped>\n",
              "    .dataframe tbody tr th:only-of-type {\n",
              "        vertical-align: middle;\n",
              "    }\n",
              "\n",
              "    .dataframe tbody tr th {\n",
              "        vertical-align: top;\n",
              "    }\n",
              "\n",
              "    .dataframe thead th {\n",
              "        text-align: right;\n",
              "    }\n",
              "</style>\n",
              "<table border=\"1\" class=\"dataframe\">\n",
              "  <thead>\n",
              "    <tr style=\"text-align: right;\">\n",
              "      <th></th>\n",
              "      <th>Data</th>\n",
              "      <th>Último</th>\n",
              "      <th>Abertura</th>\n",
              "      <th>Máxima</th>\n",
              "      <th>Mínima</th>\n",
              "      <th>Vol.</th>\n",
              "      <th>Var%</th>\n",
              "    </tr>\n",
              "  </thead>\n",
              "  <tbody>\n",
              "    <tr>\n",
              "      <th>0</th>\n",
              "      <td>23.10.2025</td>\n",
              "      <td>145.72</td>\n",
              "      <td>144.88</td>\n",
              "      <td>146.36</td>\n",
              "      <td>144.88</td>\n",
              "      <td>6,60M</td>\n",
              "      <td>0,59%</td>\n",
              "    </tr>\n",
              "    <tr>\n",
              "      <th>1</th>\n",
              "      <td>22.10.2025</td>\n",
              "      <td>144.87</td>\n",
              "      <td>144.09</td>\n",
              "      <td>145.05</td>\n",
              "      <td>144.04</td>\n",
              "      <td>7,02B</td>\n",
              "      <td>0,55%</td>\n",
              "    </tr>\n",
              "    <tr>\n",
              "      <th>2</th>\n",
              "      <td>21.10.2025</td>\n",
              "      <td>144.09</td>\n",
              "      <td>144.51</td>\n",
              "      <td>144.79</td>\n",
              "      <td>143.83</td>\n",
              "      <td>6,19B</td>\n",
              "      <td>-0,29%</td>\n",
              "    </tr>\n",
              "    <tr>\n",
              "      <th>3</th>\n",
              "      <td>20.10.2025</td>\n",
              "      <td>144.51</td>\n",
              "      <td>143.40</td>\n",
              "      <td>145.22</td>\n",
              "      <td>143.40</td>\n",
              "      <td>6,79B</td>\n",
              "      <td>0,77%</td>\n",
              "    </tr>\n",
              "    <tr>\n",
              "      <th>4</th>\n",
              "      <td>17.10.2025</td>\n",
              "      <td>143.40</td>\n",
              "      <td>142.20</td>\n",
              "      <td>143.42</td>\n",
              "      <td>141.25</td>\n",
              "      <td>8,88B</td>\n",
              "      <td>0,84%</td>\n",
              "    </tr>\n",
              "  </tbody>\n",
              "</table>\n",
              "</div>\n",
              "    <div class=\"colab-df-buttons\">\n",
              "\n",
              "  <div class=\"colab-df-container\">\n",
              "    <button class=\"colab-df-convert\" onclick=\"convertToInteractive('df-51957b8f-3b71-473a-a966-b9e346b5d510')\"\n",
              "            title=\"Convert this dataframe to an interactive table.\"\n",
              "            style=\"display:none;\">\n",
              "\n",
              "  <svg xmlns=\"http://www.w3.org/2000/svg\" height=\"24px\" viewBox=\"0 -960 960 960\">\n",
              "    <path d=\"M120-120v-720h720v720H120Zm60-500h600v-160H180v160Zm220 220h160v-160H400v160Zm0 220h160v-160H400v160ZM180-400h160v-160H180v160Zm440 0h160v-160H620v160ZM180-180h160v-160H180v160Zm440 0h160v-160H620v160Z\"/>\n",
              "  </svg>\n",
              "    </button>\n",
              "\n",
              "  <style>\n",
              "    .colab-df-container {\n",
              "      display:flex;\n",
              "      gap: 12px;\n",
              "    }\n",
              "\n",
              "    .colab-df-convert {\n",
              "      background-color: #E8F0FE;\n",
              "      border: none;\n",
              "      border-radius: 50%;\n",
              "      cursor: pointer;\n",
              "      display: none;\n",
              "      fill: #1967D2;\n",
              "      height: 32px;\n",
              "      padding: 0 0 0 0;\n",
              "      width: 32px;\n",
              "    }\n",
              "\n",
              "    .colab-df-convert:hover {\n",
              "      background-color: #E2EBFA;\n",
              "      box-shadow: 0px 1px 2px rgba(60, 64, 67, 0.3), 0px 1px 3px 1px rgba(60, 64, 67, 0.15);\n",
              "      fill: #174EA6;\n",
              "    }\n",
              "\n",
              "    .colab-df-buttons div {\n",
              "      margin-bottom: 4px;\n",
              "    }\n",
              "\n",
              "    [theme=dark] .colab-df-convert {\n",
              "      background-color: #3B4455;\n",
              "      fill: #D2E3FC;\n",
              "    }\n",
              "\n",
              "    [theme=dark] .colab-df-convert:hover {\n",
              "      background-color: #434B5C;\n",
              "      box-shadow: 0px 1px 3px 1px rgba(0, 0, 0, 0.15);\n",
              "      filter: drop-shadow(0px 1px 2px rgba(0, 0, 0, 0.3));\n",
              "      fill: #FFFFFF;\n",
              "    }\n",
              "  </style>\n",
              "\n",
              "    <script>\n",
              "      const buttonEl =\n",
              "        document.querySelector('#df-51957b8f-3b71-473a-a966-b9e346b5d510 button.colab-df-convert');\n",
              "      buttonEl.style.display =\n",
              "        google.colab.kernel.accessAllowed ? 'block' : 'none';\n",
              "\n",
              "      async function convertToInteractive(key) {\n",
              "        const element = document.querySelector('#df-51957b8f-3b71-473a-a966-b9e346b5d510');\n",
              "        const dataTable =\n",
              "          await google.colab.kernel.invokeFunction('convertToInteractive',\n",
              "                                                    [key], {});\n",
              "        if (!dataTable) return;\n",
              "\n",
              "        const docLinkHtml = 'Like what you see? Visit the ' +\n",
              "          '<a target=\"_blank\" href=https://colab.research.google.com/notebooks/data_table.ipynb>data table notebook</a>'\n",
              "          + ' to learn more about interactive tables.';\n",
              "        element.innerHTML = '';\n",
              "        dataTable['output_type'] = 'display_data';\n",
              "        await google.colab.output.renderOutput(dataTable, element);\n",
              "        const docLink = document.createElement('div');\n",
              "        docLink.innerHTML = docLinkHtml;\n",
              "        element.appendChild(docLink);\n",
              "      }\n",
              "    </script>\n",
              "  </div>\n",
              "\n",
              "\n",
              "    <div id=\"df-29492dd6-c224-4441-87af-cbac4868cbb9\">\n",
              "      <button class=\"colab-df-quickchart\" onclick=\"quickchart('df-29492dd6-c224-4441-87af-cbac4868cbb9')\"\n",
              "                title=\"Suggest charts\"\n",
              "                style=\"display:none;\">\n",
              "\n",
              "<svg xmlns=\"http://www.w3.org/2000/svg\" height=\"24px\"viewBox=\"0 0 24 24\"\n",
              "     width=\"24px\">\n",
              "    <g>\n",
              "        <path d=\"M19 3H5c-1.1 0-2 .9-2 2v14c0 1.1.9 2 2 2h14c1.1 0 2-.9 2-2V5c0-1.1-.9-2-2-2zM9 17H7v-7h2v7zm4 0h-2V7h2v10zm4 0h-2v-4h2v4z\"/>\n",
              "    </g>\n",
              "</svg>\n",
              "      </button>\n",
              "\n",
              "<style>\n",
              "  .colab-df-quickchart {\n",
              "      --bg-color: #E8F0FE;\n",
              "      --fill-color: #1967D2;\n",
              "      --hover-bg-color: #E2EBFA;\n",
              "      --hover-fill-color: #174EA6;\n",
              "      --disabled-fill-color: #AAA;\n",
              "      --disabled-bg-color: #DDD;\n",
              "  }\n",
              "\n",
              "  [theme=dark] .colab-df-quickchart {\n",
              "      --bg-color: #3B4455;\n",
              "      --fill-color: #D2E3FC;\n",
              "      --hover-bg-color: #434B5C;\n",
              "      --hover-fill-color: #FFFFFF;\n",
              "      --disabled-bg-color: #3B4455;\n",
              "      --disabled-fill-color: #666;\n",
              "  }\n",
              "\n",
              "  .colab-df-quickchart {\n",
              "    background-color: var(--bg-color);\n",
              "    border: none;\n",
              "    border-radius: 50%;\n",
              "    cursor: pointer;\n",
              "    display: none;\n",
              "    fill: var(--fill-color);\n",
              "    height: 32px;\n",
              "    padding: 0;\n",
              "    width: 32px;\n",
              "  }\n",
              "\n",
              "  .colab-df-quickchart:hover {\n",
              "    background-color: var(--hover-bg-color);\n",
              "    box-shadow: 0 1px 2px rgba(60, 64, 67, 0.3), 0 1px 3px 1px rgba(60, 64, 67, 0.15);\n",
              "    fill: var(--button-hover-fill-color);\n",
              "  }\n",
              "\n",
              "  .colab-df-quickchart-complete:disabled,\n",
              "  .colab-df-quickchart-complete:disabled:hover {\n",
              "    background-color: var(--disabled-bg-color);\n",
              "    fill: var(--disabled-fill-color);\n",
              "    box-shadow: none;\n",
              "  }\n",
              "\n",
              "  .colab-df-spinner {\n",
              "    border: 2px solid var(--fill-color);\n",
              "    border-color: transparent;\n",
              "    border-bottom-color: var(--fill-color);\n",
              "    animation:\n",
              "      spin 1s steps(1) infinite;\n",
              "  }\n",
              "\n",
              "  @keyframes spin {\n",
              "    0% {\n",
              "      border-color: transparent;\n",
              "      border-bottom-color: var(--fill-color);\n",
              "      border-left-color: var(--fill-color);\n",
              "    }\n",
              "    20% {\n",
              "      border-color: transparent;\n",
              "      border-left-color: var(--fill-color);\n",
              "      border-top-color: var(--fill-color);\n",
              "    }\n",
              "    30% {\n",
              "      border-color: transparent;\n",
              "      border-left-color: var(--fill-color);\n",
              "      border-top-color: var(--fill-color);\n",
              "      border-right-color: var(--fill-color);\n",
              "    }\n",
              "    40% {\n",
              "      border-color: transparent;\n",
              "      border-right-color: var(--fill-color);\n",
              "      border-top-color: var(--fill-color);\n",
              "    }\n",
              "    60% {\n",
              "      border-color: transparent;\n",
              "      border-right-color: var(--fill-color);\n",
              "    }\n",
              "    80% {\n",
              "      border-color: transparent;\n",
              "      border-right-color: var(--fill-color);\n",
              "      border-bottom-color: var(--fill-color);\n",
              "    }\n",
              "    90% {\n",
              "      border-color: transparent;\n",
              "      border-bottom-color: var(--fill-color);\n",
              "    }\n",
              "  }\n",
              "</style>\n",
              "\n",
              "      <script>\n",
              "        async function quickchart(key) {\n",
              "          const quickchartButtonEl =\n",
              "            document.querySelector('#' + key + ' button');\n",
              "          quickchartButtonEl.disabled = true;  // To prevent multiple clicks.\n",
              "          quickchartButtonEl.classList.add('colab-df-spinner');\n",
              "          try {\n",
              "            const charts = await google.colab.kernel.invokeFunction(\n",
              "                'suggestCharts', [key], {});\n",
              "          } catch (error) {\n",
              "            console.error('Error during call to suggestCharts:', error);\n",
              "          }\n",
              "          quickchartButtonEl.classList.remove('colab-df-spinner');\n",
              "          quickchartButtonEl.classList.add('colab-df-quickchart-complete');\n",
              "        }\n",
              "        (() => {\n",
              "          let quickchartButtonEl =\n",
              "            document.querySelector('#df-29492dd6-c224-4441-87af-cbac4868cbb9 button');\n",
              "          quickchartButtonEl.style.display =\n",
              "            google.colab.kernel.accessAllowed ? 'block' : 'none';\n",
              "        })();\n",
              "      </script>\n",
              "    </div>\n",
              "\n",
              "    </div>\n",
              "  </div>\n"
            ],
            "text/plain": [
              "         Data  Último  Abertura  Máxima  Mínima   Vol.    Var%\n",
              "0  23.10.2025  145.72    144.88  146.36  144.88  6,60M   0,59%\n",
              "1  22.10.2025  144.87    144.09  145.05  144.04  7,02B   0,55%\n",
              "2  21.10.2025  144.09    144.51  144.79  143.83  6,19B  -0,29%\n",
              "3  20.10.2025  144.51    143.40  145.22  143.40  6,79B   0,77%\n",
              "4  17.10.2025  143.40    142.20  143.42  141.25  8,88B   0,84%"
            ]
          },
          "execution_count": 174,
          "metadata": {},
          "output_type": "execute_result"
        }
      ],
      "source": [
        "df.head()"
      ]
    },
    {
      "cell_type": "markdown",
      "metadata": {
        "id": "-akhXAND0cCu"
      },
      "source": [
        "**INFORMAÇÃO DA BASE DE DADOS ORIGINAL:**\n",
        "\n",
        "0. Data - data de registro da cotação do IBOVESPA.\n",
        "1. Último - valor de fechamento do índice no dia.\n",
        "2. Abertura - valor do índice no início do pregão.\n",
        "3. Máxima - maior valor atingido pelo índice durante o dia.\n",
        "4. Mínima - menor valor atingido pelo índice durante o dia.\n",
        "5. Vol. - volume negociado no dia (quantidade total de ativos transacionados).\n",
        "6. Var% - variação percentual do fechamento em relação ao dia anterior."
      ]
    },
    {
      "cell_type": "markdown",
      "metadata": {
        "id": "yLs3Vt3c4YaI"
      },
      "source": [
        "## 1.1 - Remoção de colunas\n",
        "\n",
        "Serão consideradas apenas as colunas “Data” e “Último” da base original, pois o objetivo é prever o valor de fechamento do dia seguinte. As demais colunas serão removidas para simplificar e reduzir a base de dados."
      ]
    },
    {
      "cell_type": "code",
      "execution_count": null,
      "metadata": {
        "id": "pK4KJuYU0K-n"
      },
      "outputs": [],
      "source": [
        "df = df[['Data', 'Último']].dropna()"
      ]
    },
    {
      "cell_type": "markdown",
      "metadata": {
        "id": "n0jW9nNn4RuB"
      },
      "source": [
        "## 1.2 Validação do formatado data e transformação em indice"
      ]
    },
    {
      "cell_type": "code",
      "execution_count": null,
      "metadata": {
        "id": "PiJhjl7H4RJ1"
      },
      "outputs": [],
      "source": [
        "df['Data'] = pd.to_datetime(df['Data'])"
      ]
    },
    {
      "cell_type": "code",
      "execution_count": null,
      "metadata": {
        "id": "23MO_NN44O2w"
      },
      "outputs": [],
      "source": [
        "df = df.set_index('Data')"
      ]
    },
    {
      "cell_type": "code",
      "execution_count": null,
      "metadata": {
        "colab": {
          "base_uri": "https://localhost:8080/"
        },
        "id": "zhYQGDi14-fY",
        "outputId": "37576bd2-624a-429c-cd08-34bef33701dc"
      },
      "outputs": [
        {
          "name": "stdout",
          "output_type": "stream",
          "text": [
            "Os dados estão em ordem cronológica.\n"
          ]
        }
      ],
      "source": [
        "df = df.sort_index()\n",
        "if df.index.is_monotonic_increasing:\n",
        "    print(\"Os dados estão em ordem cronológica.\")\n",
        "else:\n",
        "    print(\"Os dados não estão em ordem cronológica.\")"
      ]
    },
    {
      "cell_type": "markdown",
      "metadata": {
        "id": "spJDxHQq5G4z"
      },
      "source": [
        "## 1.3 Remomeação de coluna\n",
        "\n",
        "Remomeação da coluna Último para remover o assento e evitar erros"
      ]
    },
    {
      "cell_type": "code",
      "execution_count": null,
      "metadata": {
        "colab": {
          "base_uri": "https://localhost:8080/"
        },
        "id": "EkytMceZ5FXi",
        "outputId": "beed6836-acb5-4128-cd68-b74e01de035f"
      },
      "outputs": [
        {
          "name": "stdout",
          "output_type": "stream",
          "text": [
            "<class 'pandas.core.frame.DataFrame'>\n",
            "DatetimeIndex: 3922 entries, 2010-01-04 to 2025-10-23\n",
            "Data columns (total 1 columns):\n",
            " #   Column  Non-Null Count  Dtype  \n",
            "---  ------  --------------  -----  \n",
            " 0   Close   3922 non-null   float64\n",
            "dtypes: float64(1)\n",
            "memory usage: 61.3 KB\n"
          ]
        }
      ],
      "source": [
        "if 'Último' in df.columns and 'Close' not in df.columns:\n",
        "    df = df.rename(columns={'Último':'Close'})\n",
        "\n",
        "df.info()"
      ]
    },
    {
      "cell_type": "markdown",
      "metadata": {
        "id": "Wrl6Xr3H5cGL"
      },
      "source": [
        "## 1.4 Visualização da base original"
      ]
    },
    {
      "cell_type": "markdown",
      "metadata": {
        "id": "TewcCdqy5npL"
      },
      "source": [
        "### 1.4.1 Visualização da serie historica"
      ]
    },
    {
      "cell_type": "code",
      "execution_count": null,
      "metadata": {
        "colab": {
          "base_uri": "https://localhost:8080/",
          "height": 411
        },
        "id": "2dJKLO4r5BNU",
        "outputId": "5720895e-39a3-4d4b-8562-b105b5a4283d"
      },
      "outputs": [
        {
          "data": {
            "image/png": "[encoded data removed]",
            "text/plain": [
              "<Figure size 1100x400 with 1 Axes>"
            ]
          },
          "metadata": {},
          "output_type": "display_data"
        }
      ],
      "source": [
        "plt.figure(figsize=(11,4))\n",
        "plt.plot(df['Close'], label='Fechamento IBOVESPA', color='navy')\n",
        "plt.title('Série Histórica do IBOVESPA (2010–2025)', fontsize=13)\n",
        "plt.xlabel('Data', fontsize=11)\n",
        "plt.ylabel('Pontos do IBOVESPA', fontsize=11)\n",
        "plt.legend(loc='upper left', fontsize=10)\n",
        "plt.grid(alpha=0.3)\n",
        "plt.show()"
      ]
    },
    {
      "cell_type": "markdown",
      "metadata": {
        "id": "ZW1B-qBp5tbB"
      },
      "source": [
        "### 1.4.2 Decomposização sazonal da serie"
      ]
    },
    {
      "cell_type": "code",
      "execution_count": null,
      "metadata": {
        "colab": {
          "base_uri": "https://localhost:8080/",
          "height": 587
        },
        "id": "7u6JcG5S5isJ",
        "outputId": "11bb4128-58a4-4565-e284-9ab279930d25"
      },
      "outputs": [
        {
          "data": {
            "image/png": "[encoded data removed]",
            "text/plain": [
              "<Figure size 1000x600 with 4 Axes>"
            ]
          },
          "metadata": {},
          "output_type": "display_data"
        }
      ],
      "source": [
        "result = seasonal_decompose(df[\"Close\"], model=\"additive\", period=365)\n",
        "fig = result.plot()\n",
        "fig.set_size_inches(10, 6)"
      ]
    },
    {
      "cell_type": "markdown",
      "metadata": {
        "id": "2A0TMHYr6i5_"
      },
      "source": [
        "**INTERPETRAÇÃO:**\n",
        "\n",
        "* Trend: revela o movimento de longo prazo, indicando períodos de alta e queda sustentados do índice.\n",
        "\n",
        "* Seasonal: exibe flutuações cíclicas curtas, típicas de variações semanais ou mensais do mercado.\n",
        "\n",
        "* Resid: representa ruídos e variações aleatórias não explicadas pelos padrões anteriores."
      ]
    },
    {
      "cell_type": "markdown",
      "metadata": {
        "id": "04vswwVF6D6y"
      },
      "source": [
        "# 2. Teste de estacionaridade e ACF/PACF\n",
        "\n",
        "O testes serão realizado nessa etapa para entendimento da serie e antecipação para a modelagem dos modelos ARIMA e ARIMAX"
      ]
    },
    {
      "cell_type": "markdown",
      "metadata": {
        "id": "xRkQtxll8ab5"
      },
      "source": [
        "## 2.1 Teste Augmented Dickey-Fuller ADF"
      ]
    },
    {
      "cell_type": "code",
      "execution_count": null,
      "metadata": {
        "colab": {
          "base_uri": "https://localhost:8080/"
        },
        "id": "amAYikmy6DeL",
        "outputId": "a9c62fec-2e77-49c7-ab6e-edf08674667d"
      },
      "outputs": [
        {
          "name": "stdout",
          "output_type": "stream",
          "text": [
            "ADF Statistic: -0.4682\n",
            "p-value: 0.8981\n",
            "A série NÃO é estacionária.\n"
          ]
        }
      ],
      "source": [
        "result = adfuller(df['Close'])\n",
        "print(f\"ADF Statistic: {result[0]:.4f}\")\n",
        "print(f\"p-value: {result[1]:.4f}\")\n",
        "\n",
        "if result[1] > 0.05:\n",
        "    print(\"A série NÃO é estacionária.\")\n",
        "    df['Close_diff'] = df['Close'].diff().dropna()\n",
        "else:\n",
        "    print(\"A série é estacionária.\")"
      ]
    },
    {
      "cell_type": "markdown",
      "metadata": {
        "id": "poy4uajx8U3v"
      },
      "source": [
        "### 2.1.1 Aplicando a primeira diferencial"
      ]
    },
    {
      "cell_type": "code",
      "execution_count": null,
      "metadata": {
        "id": "HaeNXatI531B"
      },
      "outputs": [],
      "source": [
        "df['Close_diff'] = df['Close'].diff()\n",
        "df=df.dropna()"
      ]
    },
    {
      "cell_type": "markdown",
      "metadata": {
        "id": "74BwDs-I8wlS"
      },
      "source": [
        "### 2.1.2 Teste de estacionaridade com a serie diferenciada"
      ]
    },
    {
      "cell_type": "code",
      "execution_count": null,
      "metadata": {
        "colab": {
          "base_uri": "https://localhost:8080/"
        },
        "id": "52WR0yBK8Cv5",
        "outputId": "27472cf7-53cd-45d8-8fbc-32950168b4fc"
      },
      "outputs": [
        {
          "name": "stdout",
          "output_type": "stream",
          "text": [
            "ADF Statistic: -20.6947\n",
            "p-value: 0.0000\n",
            "A série é estacionária.\n"
          ]
        }
      ],
      "source": [
        "result = adfuller(df['Close_diff'])\n",
        "print(f\"ADF Statistic: {result[0]:.4f}\")\n",
        "print(f\"p-value: {result[1]:.4f}\")\n",
        "\n",
        "if result[1] > 0.05:\n",
        "    print(\"A série NÃO é estacionária.\")\n",
        "    df['Close_diff'] = df['Close'].diff().dropna()\n",
        "else:\n",
        "    print(\"A série é estacionária.\")"
      ]
    },
    {
      "cell_type": "markdown",
      "metadata": {
        "id": "JN_cvLcx9Eaj"
      },
      "source": [
        "### 2.1.3 Visualização da serie estacionária"
      ]
    },
    {
      "cell_type": "code",
      "execution_count": null,
      "metadata": {
        "colab": {
          "base_uri": "https://localhost:8080/",
          "height": 411
        },
        "id": "9XGRMNMH8vkk",
        "outputId": "f2dc1060-62ca-4eb0-fec1-159e99ee70fd"
      },
      "outputs": [
        {
          "data": {
            "image/png": "[encoded data removed]",
            "text/plain": [
              "<Figure size 1100x400 with 1 Axes>"
            ]
          },
          "metadata": {},
          "output_type": "display_data"
        }
      ],
      "source": [
        "plt.figure(figsize=(11,4))\n",
        "plt.plot(df['Close_diff'], label='Diferença do Fechamento (d=1)', color='navy')\n",
        "plt.title('Série Diferenciada do IBOVESPA', fontsize=13)\n",
        "plt.xlabel('Data', fontsize=11)\n",
        "plt.ylabel('Variação Diária (pontos)', fontsize=11)\n",
        "plt.legend(loc='upper left', fontsize=10)\n",
        "plt.grid(alpha=0.3)\n",
        "plt.show()"
      ]
    },
    {
      "cell_type": "markdown",
      "metadata": {
        "id": "AsWLbpqv9qSh"
      },
      "source": [
        "## 2.2 Teste ACF/PACF"
      ]
    },
    {
      "cell_type": "code",
      "execution_count": null,
      "metadata": {
        "colab": {
          "base_uri": "https://localhost:8080/",
          "height": 547
        },
        "id": "L90pg_sH9Hwc",
        "outputId": "69590128-2bb5-433d-fca1-ea2a8e5aa326"
      },
      "outputs": [
        {
          "name": "stdout",
          "output_type": "stream",
          "text": [
            "ACF cruza o limite em lag 2 → q sugerido = 2\n",
            "PACF cruza o limite em lag 2 → p sugerido = 2\n"
          ]
        },
        {
          "data": {
            "image/png": "[encoded data removed]",
            "text/plain": [
              "<Figure size 1500x500 with 2 Axes>"
            ]
          },
          "metadata": {},
          "output_type": "display_data"
        }
      ],
      "source": [
        "  def analisar_acf_pacf(serie, lags=730):\n",
        "\n",
        "    fig, ax = plt.subplots(1, 2, figsize=(15, 5))\n",
        "\n",
        "    #ACF\n",
        "    sm.graphics.tsa.plot_acf(serie, lags=lags, ax=ax[0], alpha=0.05)\n",
        "    ax[0].set_title(\"Autocorrelação (ACF)\")\n",
        "    ax[0].set_xlabel(\"Lags\")\n",
        "    ax[0].set_ylabel(\"Correlação\")\n",
        "\n",
        "    # Valores e limites ACF\n",
        "    acf_vals, ci_acf = sm.tsa.acf(serie, nlags=lags, alpha=0.05)\n",
        "    intercept_acf = np.where(abs(acf_vals) < (ci_acf[:, 1] - acf_vals))[0]\n",
        "    if intercept_acf.size > 0:\n",
        "        q = intercept_acf[0]\n",
        "        print(f\"ACF cruza o limite em lag {q} → q sugerido = {q}\")\n",
        "        ax[0].axvline(q, color='red', linestyle='--', label=f'q = {q}')\n",
        "        ax[0].legend()\n",
        "    else:\n",
        "        print(\"ACF não cruza o limite de significância.\")\n",
        "\n",
        "    # PACF\n",
        "    sm.graphics.tsa.plot_pacf(serie, lags=lags, ax=ax[1], alpha=0.05)\n",
        "    ax[1].set_title(\"Autocorrelação Parcial (PACF)\")\n",
        "    ax[1].set_xlabel(\"Lags\")\n",
        "    ax[1].set_ylabel(\"Correlação Parcial\")\n",
        "\n",
        "    # Valores e limites PACF\n",
        "    pacf_vals, ci_pacf = sm.tsa.pacf(serie, nlags=lags, alpha=0.05)\n",
        "    intercept_pacf = np.where(abs(pacf_vals) < (ci_pacf[:, 1] - pacf_vals))[0]\n",
        "    if intercept_pacf.size > 0:\n",
        "        p = intercept_pacf[0]\n",
        "        print(f\"PACF cruza o limite em lag {p} → p sugerido = {p}\")\n",
        "        ax[1].axvline(p, color='red', linestyle='--', label=f'p = {p}')\n",
        "        ax[1].legend()\n",
        "    else:\n",
        "        print(\"PACF não cruza o limite de significância.\")\n",
        "\n",
        "    fig.suptitle(\"Identificação de p e q pelo Método ACF/PACF\", fontsize=14)\n",
        "    fig.tight_layout()\n",
        "    plt.show()\n",
        "\n",
        "# Executar\n",
        "analisar_acf_pacf(df['Close_diff'], lags=730)"
      ]
    },
    {
      "cell_type": "markdown",
      "metadata": {
        "id": "MCaPGk6d-_aX"
      },
      "source": [
        "### 2.2.2 Parametros para utilização no ARIMA"
      ]
    },
    {
      "cell_type": "code",
      "execution_count": null,
      "metadata": {
        "id": "V3y44QkR-058"
      },
      "outputs": [],
      "source": [
        "p, d, q = 2, 1, 2"
      ]
    },
    {
      "cell_type": "markdown",
      "metadata": {
        "id": "AptVOkdp_NkN"
      },
      "source": [
        "# 3. Criação da variavel Target\n",
        "\n",
        "A variável target indica o movimento diário do IBOVESPA, sendo 1 quando o fechamento do dia é maior que o do dia anterior (alta) e 0 quando é menor ou igual (queda)."
      ]
    },
    {
      "cell_type": "markdown",
      "metadata": {
        "id": "D8xCSnNDAzeh"
      },
      "source": [
        "## 3.1 Criando a variável"
      ]
    },
    {
      "cell_type": "code",
      "execution_count": null,
      "metadata": {
        "id": "Wtv9-w-x_NDp"
      },
      "outputs": [],
      "source": [
        "df['target'] = (df['Close'] > df['Close'].shift(1)).astype(int)\n",
        "df = df.dropna(subset=['target'])"
      ]
    },
    {
      "cell_type": "markdown",
      "metadata": {
        "id": "9EflqKoxA2qg"
      },
      "source": [
        "## 3.2 Verificando a distribuição da variável Target"
      ]
    },
    {
      "cell_type": "code",
      "execution_count": null,
      "metadata": {
        "colab": {
          "base_uri": "https://localhost:8080/"
        },
        "id": "vy-MUUwY_Hci",
        "outputId": "4a66c5d1-2d9a-4286-b270-9477851f51ab"
      },
      "outputs": [
        {
          "name": "stdout",
          "output_type": "stream",
          "text": [
            "target\n",
            "1   0.51\n",
            "0   0.49\n",
            "Name: proportion, dtype: float64\n"
          ]
        }
      ],
      "source": [
        "print(df['target'].value_counts(normalize=True).round(3))"
      ]
    },
    {
      "cell_type": "markdown",
      "metadata": {
        "id": "d2OmTF_4BHiN"
      },
      "source": [
        "# 4. Engenharia de Atributos (Feature Enginnering)"
      ]
    },
    {
      "cell_type": "markdown",
      "metadata": {
        "id": "dGWxx10EBQyQ"
      },
      "source": [
        "## 4.1 Lags\n",
        "\n",
        "Utilizados em modelos de machine learing supervisionados aplicados a séries temporais, pois esses modelos não consideram a sequência temporal por conta própria"
      ]
    },
    {
      "cell_type": "code",
      "execution_count": null,
      "metadata": {
        "id": "-TzCS2DKAbFs"
      },
      "outputs": [],
      "source": [
        "for i in range(1, 10):\n",
        "    df[f'lag_{i}'] = df['Close'].shift(i)"
      ]
    },
    {
      "cell_type": "markdown",
      "metadata": {
        "id": "p5EjGuvcCTDs"
      },
      "source": [
        "## 4.2 Variação Diária (%)\n",
        "\n",
        "Representa a variação percentual do fechamento em relação ao dia anterior, indicando a intensidade e direção das mudanças diárias no índice."
      ]
    },
    {
      "cell_type": "code",
      "execution_count": null,
      "metadata": {
        "id": "t3a3GkOUCSFA"
      },
      "outputs": [],
      "source": [
        "df['variacao_diaria'] = df['Close'].pct_change().shift(1)"
      ]
    },
    {
      "cell_type": "markdown",
      "metadata": {
        "id": "UWtw3ZQXCoyu"
      },
      "source": [
        "## 4.3 Variação Logarítmica Diária\n",
        "\n",
        "Mede a variação percentual entre fechamentos consecutivos em escala logarítmica, suavizando oscilações e destacando mudanças relativas de preço.\n"
      ]
    },
    {
      "cell_type": "code",
      "execution_count": null,
      "metadata": {
        "id": "Al33LyzNBalH"
      },
      "outputs": [],
      "source": [
        "df['variacao_log_diaria'] = np.log(df['Close']).diff().shift(1)"
      ]
    },
    {
      "cell_type": "markdown",
      "metadata": {
        "id": "Y_aZ6wI5CzBa"
      },
      "source": [
        "## 4.4 Médias Móveis\n",
        "\n",
        "Capturam a tendência de curto e médio prazo do preço de fechamento, enquanto mm_diff mostra o cruzamento entre essas médias, indicando possíveis sinais de alta ou baixa.\n",
        "\n",
        "Utilizando 5 e 20 dias, que são respectivamente o perido de uma semana e aproximadamente um mês dos pregões."
      ]
    },
    {
      "cell_type": "code",
      "execution_count": null,
      "metadata": {
        "id": "djlncUL4CyJI"
      },
      "outputs": [],
      "source": [
        "df['mm_5d'] = df['Close'].rolling(window=5).mean().shift(1)\n",
        "df['mm_20d'] = df['Close'].rolling(window=20).mean().shift(1)\n",
        "df['mm_diff'] = df['mm_5d'] - df['mm_20d']"
      ]
    },
    {
      "cell_type": "markdown",
      "metadata": {
        "id": "Spg1XS58Erp4"
      },
      "source": [
        "## 4.5 Volatilidade\n",
        "\n",
        "Mede a variação dos preços em janelas curtas e longas; vol_diff indica se a volatilidade recente está aumentando ou diminuindo em relação ao padrão médio.\n",
        "\n",
        "Utilizando 5 e 20 dias, que são respectivamente o perido de uma semana e aproximadamente um mês dos pregões."
      ]
    },
    {
      "cell_type": "code",
      "execution_count": null,
      "metadata": {
        "id": "logdTbQ2E0JH"
      },
      "outputs": [],
      "source": [
        "df['vol_5d'] = df['Close'].rolling(window=5).std().shift(1)\n",
        "df['vol_20d'] = df['Close'].rolling(window=20).std().shift(1)\n",
        "df['vol_diff'] = df['vol_5d'] - df['vol_20d']"
      ]
    },
    {
      "cell_type": "markdown",
      "metadata": {
        "id": "tKNsaSOvE8yM"
      },
      "source": [
        "# 4.6 Índice de Força Relativa\n",
        "\n",
        "Indicador técnico criado por J. Welles Wilder em 1978, que mede a intensidade dos movimentos de alta e baixa recentes em uma escala de 0 a 100; valores elevados indicam sobrecompra e valores baixos, sobrevenda, sinalizando possíveis reversões de tendência."
      ]
    },
    {
      "cell_type": "code",
      "execution_count": null,
      "metadata": {
        "id": "wl9Lx6gAE44M"
      },
      "outputs": [],
      "source": [
        "window = 14\n",
        "\n",
        "delta = df['Close'].diff()\n",
        "\n",
        "gain = np.where(delta > 0, delta, 0)\n",
        "loss = np.where(delta < 0, -delta, 0)\n",
        "\n",
        "# Criar séries com o mesmo índice do DataFrame\n",
        "gain_series = pd.Series(gain, index=df.index)\n",
        "loss_series = pd.Series(loss, index=df.index)\n",
        "\n",
        "avg_gain = gain_series.rolling(window=window, min_periods=window).mean().shift(1)\n",
        "avg_loss = loss_series.rolling(window=window, min_periods=window).mean().shift(1)\n",
        "\n",
        "rs = avg_gain / avg_loss\n",
        "df['rsi_14'] = 100 - (100 / (1 + rs))"
      ]
    },
    {
      "cell_type": "markdown",
      "metadata": {
        "id": "AZxlGHUnGE8_"
      },
      "source": [
        "## 4.7 Momentum\n",
        "\n",
        "Mede a diferença entre a variação diária e a média das últimas variações, indicando a força e a velocidade do movimento recente do preço. Nessa variavel serão considerados 5 dias."
      ]
    },
    {
      "cell_type": "code",
      "execution_count": null,
      "metadata": {
        "id": "LD-jasPyGDTs"
      },
      "outputs": [],
      "source": [
        "df['momentum_5d'] = df['variacao_diaria'] - df['variacao_diaria'].rolling(window=5).mean().shift(1)"
      ]
    },
    {
      "cell_type": "markdown",
      "metadata": {
        "id": "ZCk_IbXIGVV-"
      },
      "source": [
        "# 4.8 Indicador de Reversão\n",
        "\n",
        "Identifica mudanças de direção no movimento diário dos preços, marcando 1 quando ocorre inversão de sinal na variação e 0 quando a tendência se mantém."
      ]
    },
    {
      "cell_type": "code",
      "execution_count": null,
      "metadata": {
        "id": "1tdL-L_jFnDf"
      },
      "outputs": [],
      "source": [
        "df['reversao'] = np.sign(df['variacao_diaria']) != np.sign(df['variacao_diaria'].shift(1))\n",
        "df['reversao'] = df['reversao'].astype(int)"
      ]
    },
    {
      "cell_type": "markdown",
      "metadata": {
        "id": "1PARmqxuGk6u"
      },
      "source": [
        "## 4.9 Calendário\n",
        "\n",
        "Sinalização dos dias da semana, mês e se o periodo é fim de de mês."
      ]
    },
    {
      "cell_type": "code",
      "execution_count": null,
      "metadata": {
        "id": "Qv4OnliEGh9E"
      },
      "outputs": [],
      "source": [
        "df['dia_semana'] = df.index.dayofweek\n",
        "df['mes'] = df.index.month\n",
        "df['fim_mes'] = df.index.is_month_end.astype(int)"
      ]
    },
    {
      "cell_type": "markdown",
      "metadata": {
        "id": "lZNkS76JGz55"
      },
      "source": [
        "# 4.10 Limpeza dos NaN\n",
        "\n",
        "Limpeza dos NaN geardos durante o cálculo das variáveis."
      ]
    },
    {
      "cell_type": "code",
      "execution_count": null,
      "metadata": {
        "colab": {
          "base_uri": "https://localhost:8080/"
        },
        "id": "446C2OJ1GzBb",
        "outputId": "8486fa7f-48dc-41cc-e471-0d6209cff70c"
      },
      "outputs": [
        {
          "name": "stdout",
          "output_type": "stream",
          "text": [
            "<class 'pandas.core.frame.DataFrame'>\n",
            "DatetimeIndex: 3901 entries, 2010-02-03 to 2025-10-23\n",
            "Data columns (total 26 columns):\n",
            " #   Column               Non-Null Count  Dtype  \n",
            "---  ------               --------------  -----  \n",
            " 0   Close                3901 non-null   float64\n",
            " 1   Close_diff           3901 non-null   float64\n",
            " 2   target               3901 non-null   int64  \n",
            " 3   lag_1                3901 non-null   float64\n",
            " 4   lag_2                3901 non-null   float64\n",
            " 5   lag_3                3901 non-null   float64\n",
            " 6   lag_4                3901 non-null   float64\n",
            " 7   lag_5                3901 non-null   float64\n",
            " 8   lag_6                3901 non-null   float64\n",
            " 9   lag_7                3901 non-null   float64\n",
            " 10  lag_8                3901 non-null   float64\n",
            " 11  lag_9                3901 non-null   float64\n",
            " 12  variacao_diaria      3901 non-null   float64\n",
            " 13  variacao_log_diaria  3901 non-null   float64\n",
            " 14  mm_5d                3901 non-null   float64\n",
            " 15  mm_20d               3901 non-null   float64\n",
            " 16  mm_diff              3901 non-null   float64\n",
            " 17  vol_5d               3901 non-null   float64\n",
            " 18  vol_20d              3901 non-null   float64\n",
            " 19  vol_diff             3901 non-null   float64\n",
            " 20  rsi_14               3901 non-null   float64\n",
            " 21  momentum_5d          3901 non-null   float64\n",
            " 22  reversao             3901 non-null   int64  \n",
            " 23  dia_semana           3901 non-null   int32  \n",
            " 24  mes                  3901 non-null   int32  \n",
            " 25  fim_mes              3901 non-null   int64  \n",
            "dtypes: float64(21), int32(2), int64(3)\n",
            "memory usage: 792.4 KB\n"
          ]
        }
      ],
      "source": [
        "df = df.dropna()\n",
        "df.info()"
      ]
    },
    {
      "cell_type": "markdown",
      "metadata": {
        "id": "G6fOCkW1KOwG"
      },
      "source": [
        "# 5. Modelagem"
      ]
    },
    {
      "cell_type": "markdown",
      "metadata": {
        "id": "6eQSj3r-KZSn"
      },
      "source": [
        "## 5.1 Modelos de Classificação"
      ]
    },
    {
      "cell_type": "markdown",
      "metadata": {
        "id": "o6k9IMqRLB7V"
      },
      "source": [
        "### 5.1.1 Features utilizadas e Separação de base treino e teste\n",
        "\n",
        "Preparação para os modelos KNN e Random Forest.\n"
      ]
    },
    {
      "cell_type": "markdown",
      "metadata": {
        "id": "2fOwLYCDLeWC"
      },
      "source": [
        "#### 5.1.1.1 Features"
      ]
    },
    {
      "cell_type": "code",
      "execution_count": null,
      "metadata": {
        "id": "7E6QTAF7Lddl"
      },
      "outputs": [],
      "source": [
        "features = [\n",
        "    'variacao_diaria', 'variacao_log_diaria',\n",
        "    'mm_5d', 'mm_20d', 'mm_diff',\n",
        "    'vol_5d', 'vol_20d', 'vol_diff',\n",
        "    'rsi_14', 'momentum_5d', 'reversao',\n",
        "    'dia_semana', 'mes', 'fim_mes',\n",
        "    'lag_1', 'lag_2', 'lag_3', 'lag_4', 'lag_5',\n",
        "    'lag_6', 'lag_7', 'lag_8', 'lag_9'\n",
        "]"
      ]
    },
    {
      "cell_type": "markdown",
      "metadata": {
        "id": "rGwwn-NaLkaD"
      },
      "source": [
        "#### 5.1.1.2 Separação entre variáveis X e Y"
      ]
    },
    {
      "cell_type": "code",
      "execution_count": null,
      "metadata": {
        "id": "Nnr4ZnLiGxoU"
      },
      "outputs": [],
      "source": [
        "X = df[features].copy()\n",
        "y = df['target'].copy()"
      ]
    },
    {
      "cell_type": "markdown",
      "metadata": {
        "id": "We9-430QLuE4"
      },
      "source": [
        "#### 5.1.1.3 Divisão treino/teste\n",
        "\n",
        "Considerando o treino como os ultimos 30 dias"
      ]
    },
    {
      "cell_type": "code",
      "execution_count": 236,
      "metadata": {
        "colab": {
          "base_uri": "https://localhost:8080/"
        },
        "id": "3FupyeS-Ls9J",
        "outputId": "4484be04-a17e-4351-9809-d4408adf5941"
      },
      "outputs": [
        {
          "output_type": "stream",
          "name": "stdout",
          "text": [
            "Tamanho treino: 3871 linhas\n",
            "Tamanho teste:  30 linhas\n",
            "Treino: de 2010-02-03 até 2025-09-11\n",
            "Teste:  de 2025-09-12 até 2025-10-23\n"
          ]
        }
      ],
      "source": [
        "test_size = 30\n",
        "X_train = X.iloc[:-test_size].copy()\n",
        "X_test  = X.iloc[-test_size:].copy()\n",
        "y_train = y.iloc[:-test_size].copy()\n",
        "y_test  = y.iloc[-test_size:].copy()\n",
        "\n",
        "# Verificação do tamanho da base e datas\n",
        "print(f\"Tamanho treino: {len(X_train)} linhas\")\n",
        "print(f\"Tamanho teste:  {len(X_test)} linhas\")\n",
        "print(f\"Treino: de {X_train.index.min().date()} até {X_train.index.max().date()}\")\n",
        "print(f\"Teste:  de {X_test.index.min().date()} até {X_test.index.max().date()}\")"
      ]
    },
    {
      "cell_type": "markdown",
      "metadata": {
        "id": "9MooabZfL75o"
      },
      "source": [
        "#### 5.1.1.4 Normalização das variáveis\n",
        "\n",
        "StandardScaler aplicado para padronizar as variáveis transformando todas as features para média 0 e desvio padrão 1."
      ]
    },
    {
      "cell_type": "code",
      "execution_count": 237,
      "metadata": {
        "id": "lEjVmshWL5DC"
      },
      "outputs": [],
      "source": [
        "from sklearn.preprocessing import StandardScaler\n",
        "\n",
        "scaler = StandardScaler()\n",
        "X_train_scaled = scaler.fit_transform(X_train)\n",
        "X_test_scaled  = scaler.transform(X_test)"
      ]
    },
    {
      "cell_type": "markdown",
      "metadata": {
        "id": "LaW_vKfxMeae"
      },
      "source": [
        "### **5.1.2 K-NEAREST NEIGHBORS (KNN)**\n",
        "\n",
        "KNN (K-Nearest Neighbors) é um classificador supervisionado baseado na proximidade entre observações. Ele compara cada ponto de teste com seus vizinhos mais próximos no conjunto de treino e atribui a classe mais frequente entre eles."
      ]
    },
    {
      "cell_type": "markdown",
      "metadata": {
        "id": "kB1RnWuENStr"
      },
      "source": [
        "#### 5.1.2.1 Busca do melhor valores K para o modelo KNN"
      ]
    },
    {
      "cell_type": "code",
      "execution_count": 238,
      "metadata": {
        "colab": {
          "base_uri": "https://localhost:8080/"
        },
        "id": "5fkYMHs-MVeP",
        "outputId": "bec033d3-744f-4fc0-e2e0-a0c8523560f5"
      },
      "outputs": [
        {
          "output_type": "stream",
          "name": "stdout",
          "text": [
            "k=3: acurácia = 0.567\n",
            "k=5: acurácia = 0.600\n",
            "k=7: acurácia = 0.567\n",
            "k=9: acurácia = 0.733\n",
            "k=11: acurácia = 0.700\n",
            "k=13: acurácia = 0.700\n",
            "k=15: acurácia = 0.667\n",
            "k=17: acurácia = 0.500\n",
            "k=19: acurácia = 0.500\n",
            "\n",
            "Melhor valor de k encontrado: 9 → Acurácia: 0.733\n"
          ]
        }
      ],
      "source": [
        "resultados_k = {}\n",
        "\n",
        "for k in range(3, 21, 2):  # apenas valores ímpares para evitar empates\n",
        "    knn_temp = KNeighborsClassifier(n_neighbors=k)\n",
        "    knn_temp.fit(X_train_scaled, y_train)\n",
        "    y_pred_temp = knn_temp.predict(X_test_scaled)\n",
        "    acc_temp = accuracy_score(y_test, y_pred_temp)\n",
        "    resultados_k[k] = acc_temp\n",
        "    print(f\"k={k}: acurácia = {acc_temp:.3f}\")\n",
        "\n",
        "# Seleciona o melhor k com base na maior acurácia\n",
        "melhor_k = max(resultados_k, key=resultados_k.get)\n",
        "print(f\"\\nMelhor valor de k encontrado: {melhor_k} → Acurácia: {resultados_k[melhor_k]:.3f}\")"
      ]
    },
    {
      "cell_type": "markdown",
      "metadata": {
        "id": "2JyeAw-gRALs"
      },
      "source": [
        "#### 5.1.2.2 Definição do modelo, treino e predição"
      ]
    },
    {
      "cell_type": "code",
      "execution_count": 239,
      "metadata": {
        "id": "BCVJgOH-NDU5"
      },
      "outputs": [],
      "source": [
        "knn_final = KNeighborsClassifier(n_neighbors=melhor_k)\n",
        "knn_final.fit(X_train_scaled, y_train)\n",
        "y_pred_knn = knn_final.predict(X_test_scaled)"
      ]
    },
    {
      "cell_type": "markdown",
      "metadata": {
        "id": "FDby_rR1RVag"
      },
      "source": [
        "5.1.2.3 Calculo da Acurácia"
      ]
    },
    {
      "cell_type": "code",
      "execution_count": 240,
      "metadata": {
        "colab": {
          "base_uri": "https://localhost:8080/"
        },
        "id": "3cNZhXQDNkH9",
        "outputId": "15275fa6-88d5-4416-b2ed-36b71db4e11d"
      },
      "outputs": [
        {
          "output_type": "stream",
          "name": "stdout",
          "text": [
            "Acurácia direcional (KNN): 0.73\n",
            "F1-score: 0.75\n",
            "Matriz de confusão:\n",
            " [[10  4]\n",
            " [ 4 12]]\n"
          ]
        }
      ],
      "source": [
        "acc_knn = accuracy_score(y_test, y_pred_knn)\n",
        "f1_knn = f1_score(y_test, y_pred_knn)\n",
        "cm_knn = confusion_matrix(y_test, y_pred_knn)\n",
        "\n",
        "print(f\"Acurácia direcional (KNN): {acc_knn:.2f}\")\n",
        "print(f\"F1-score: {f1_knn:.2f}\")\n",
        "print(\"Matriz de confusão:\\n\", cm_knn)"
      ]
    },
    {
      "cell_type": "markdown",
      "metadata": {
        "id": "zBATP5iFR5Ll"
      },
      "source": [
        "### **5.1.3 RANDOM FOREST**\n",
        "\n",
        "O modelo Random Forest é um classificador supervisionado baseado em ensemble, que combina múltiplas árvores de decisão para reduzir variância e aumentar a precisão.  Cada árvore é treinada com subconjuntos aleatórios dos dados e das variáveis, tornando o modelo mais robusto e menos suscetível a overfitting."
      ]
    },
    {
      "cell_type": "markdown",
      "metadata": {
        "id": "B3ejWcolSMcL"
      },
      "source": [
        "#### 5.1.3.1 Definição do modelo, treino e predição"
      ]
    },
    {
      "cell_type": "code",
      "execution_count": 244,
      "metadata": {
        "id": "nRCfaJQtRUQr"
      },
      "outputs": [],
      "source": [
        "rf = RandomForestClassifier(\n",
        "    n_estimators=500,        # n° árvores\n",
        "    max_depth=None,          # maior profundidade quando necessário\n",
        "    min_samples_split=2,     # divisão mínima de padrão\n",
        "    min_samples_leaf=1,      # folhas puras permitidas\n",
        "    max_features='sqrt',     # n_features\n",
        "    bootstrap=True,\n",
        "    random_state=42,\n",
        "    n_jobs=-1\n",
        ")\n",
        "\n",
        "rf.fit(X_train_scaled, y_train)\n",
        "y_pred_rf = rf.predict(X_test_scaled)"
      ]
    },
    {
      "cell_type": "markdown",
      "metadata": {
        "id": "H7CjNsmIUVlV"
      },
      "source": [
        "#### 5.1.3.2 Calculo da Acurácia"
      ]
    },
    {
      "cell_type": "code",
      "execution_count": 245,
      "metadata": {
        "colab": {
          "base_uri": "https://localhost:8080/"
        },
        "id": "0PxVGlsfSxkA",
        "outputId": "45a24706-e0c4-421c-a1ac-437a75c5ee18"
      },
      "outputs": [
        {
          "output_type": "stream",
          "name": "stdout",
          "text": [
            "Acurácia direcional (KNN): 0.60\n",
            "F1-score: 0.70\n",
            "Matriz de confusão:\n",
            " [[ 4 10]\n",
            " [ 2 14]]\n"
          ]
        }
      ],
      "source": [
        "acc_rf = accuracy_score(y_test, y_pred_rf)\n",
        "f1_rf = f1_score(y_test, y_pred_rf)\n",
        "cm_rf = confusion_matrix(y_test, y_pred_rf)\n",
        "\n",
        "print(f\"Acurácia direcional (KNN): {acc_rf:.2f}\")\n",
        "print(f\"F1-score: {f1_rf:.2f}\")\n",
        "print(\"Matriz de confusão:\\n\", cm_rf)"
      ]
    },
    {
      "cell_type": "markdown",
      "metadata": {
        "id": "9_G6QFzOUsgh"
      },
      "source": [
        "## 5.2 Modelos Baseados em Séries Temporais"
      ]
    },
    {
      "cell_type": "markdown",
      "metadata": {
        "id": "BvRWze1aVZLm"
      },
      "source": [
        "### 5.2.1 Features utilizadas e Separação de base treino e teste\n",
        "\n",
        "Preparação para os modelos KNN e Random Forest."
      ]
    },
    {
      "cell_type": "markdown",
      "metadata": {
        "id": "3SFsa8mUV1na"
      },
      "source": [
        "#### 5.2.1.1 Features"
      ]
    },
    {
      "cell_type": "code",
      "execution_count": null,
      "metadata": {
        "id": "ip5Yde74Uus5"
      },
      "outputs": [],
      "source": [
        "features_arimax = [\n",
        "    'variacao_diaria', 'variacao_log_diaria',\n",
        "    'mm_5d', 'mm_20d', 'mm_diff',\n",
        "    'vol_5d', 'vol_20d',\n",
        "    'rsi_14', 'momentum_5d', 'reversao'\n",
        "]"
      ]
    },
    {
      "cell_type": "markdown",
      "metadata": {
        "id": "WBxJXiZGWw6F"
      },
      "source": [
        "#### 5.2.1.2 Divisão treino/teste\n",
        "\n",
        "Considerando o treino como os ultimos 30 dias"
      ]
    },
    {
      "cell_type": "code",
      "execution_count": null,
      "metadata": {
        "colab": {
          "base_uri": "https://localhost:8080/"
        },
        "id": "1ukqBcijW3mS",
        "outputId": "f88d4152-6064-4248-ff2a-8b5b74d85e12"
      },
      "outputs": [
        {
          "name": "stdout",
          "output_type": "stream",
          "text": [
            "Tamanho treino: 3871 linhas\n",
            "Tamanho teste:  30 linhas\n",
            "Treino: de 2010-02-03 até 2025-09-11\n",
            "Teste:  de 2025-09-12 até 2025-10-23\n"
          ]
        }
      ],
      "source": [
        "test_size = 30\n",
        "train = df.iloc[:-test_size].copy()\n",
        "test  = df.iloc[-test_size:].copy()\n",
        "y_train = train['Close'].copy()\n",
        "y_test  = test['Close'].copy()\n",
        "\n",
        "print(f\"Tamanho treino: {len(train)} linhas\")\n",
        "print(f\"Tamanho teste:  {len(test)} linhas\")\n",
        "print(f\"Treino: de {train.index.min().date()} até {train.index.max().date()}\")\n",
        "print(f\"Teste:  de {test.index.min().date()} até {test.index.max().date()}\")"
      ]
    },
    {
      "cell_type": "markdown",
      "metadata": {
        "id": "rKh_r7Q0WHRw"
      },
      "source": [
        "#### 5.2.1.3 Separação entre variáveis exôgeneras X e Y"
      ]
    },
    {
      "cell_type": "code",
      "execution_count": null,
      "metadata": {
        "id": "qxzugebbWS1X"
      },
      "outputs": [],
      "source": [
        "X_train_exog = train[features_arimax].copy()\n",
        "X_test_exog  = test[features_arimax].copy()"
      ]
    },
    {
      "cell_type": "markdown",
      "metadata": {
        "id": "OH42Zi6yXOkJ"
      },
      "source": [
        "### **5.2.2 ARIMA (AUTO REGRESSIVE INTEGRATED MOVING AVERAGE)**\n",
        "\n",
        "O modelo ARIMA é uma técnica clássica de previsão de séries temporais que combina três componentes:\n",
        "1. AR (AutoRegressive): dependência dos valores passados da série;\n",
        "2. I (Integrated): diferença entre observações para tornar a série estacionária;\n",
        "3. MA (Moving Average): dependência dos erros passados de previsão.\n",
        "\n",
        "Nesta aplicação, o ARIMA é ajustado apenas sobre a série de fechamento (\"Close\"), sem utilizar variáveis exógenas. O objetivo é prever o valor do dia seguinte e avaliar a acurácia direcional se o modelo acerta a direção (alta ou queda).\n"
      ]
    },
    {
      "cell_type": "markdown",
      "metadata": {
        "id": "1ajw7RLyXvEo"
      },
      "source": [
        "#### 5.2.2.1 Definição do modelo, treino e predição"
      ]
    },
    {
      "cell_type": "code",
      "execution_count": null,
      "metadata": {
        "id": "-344YOheXCWw"
      },
      "outputs": [],
      "source": [
        "# Definição dos parâmetros p, d, q - calculaods e demostrados nas etapas 2.2.1 e 2.2.2\n",
        "order = (2, 1, 2)\n",
        "\n",
        "# Inicialização das listas de histórico\n",
        "history = list(y_train)\n",
        "predictions = []\n",
        "\n",
        "# Loop de predição um passo à frente\n",
        "for t in range(len(y_test)):\n",
        "    model = ARIMA(history, order=order)\n",
        "    model_fit = model.fit()\n",
        "    yhat = model_fit.forecast()[0]\n",
        "    predictions.append(yhat)\n",
        "    history.append(y_test.iloc[t])\n",
        "\n",
        "# Conversão para arrays\n",
        "predictions = np.array(predictions)\n",
        "true_values = y_test.values"
      ]
    },
    {
      "cell_type": "markdown",
      "metadata": {
        "id": "8An7VvlUYS5P"
      },
      "source": [
        "#### 5.2.2.2 Cálculo da acurácia direcional\n",
        "\n",
        "Comparação do resultado para entender se o modelo preveu uma subida ou descida"
      ]
    },
    {
      "cell_type": "code",
      "execution_count": null,
      "metadata": {
        "id": "X-_zDKnAYRHP"
      },
      "outputs": [],
      "source": [
        "direction_true = (true_values > np.roll(true_values, 1))[1:]\n",
        "direction_pred = (predictions[1:] > np.roll(true_values, 1)[1:])"
      ]
    },
    {
      "cell_type": "markdown",
      "metadata": {
        "id": "42pDdgOUYvnS"
      },
      "source": [
        "#### 5.2.2.3 Calculo da Acurácia"
      ]
    },
    {
      "cell_type": "code",
      "execution_count": null,
      "metadata": {
        "colab": {
          "base_uri": "https://localhost:8080/"
        },
        "id": "xTLMAk0iYpiL",
        "outputId": "60bb7d67-8477-4454-bcbc-76e577620f77"
      },
      "outputs": [
        {
          "name": "stdout",
          "output_type": "stream",
          "text": [
            "Acurácia direcional (ARIMA): 0.62\n",
            "Matriz de confusão (ARIMA):\n",
            "[[ 8  5]\n",
            " [ 6 10]]\n"
          ]
        }
      ],
      "source": [
        "acc_arima = accuracy_score(direction_true, direction_pred)\n",
        "cm_arima = confusion_matrix(direction_true, direction_pred)\n",
        "\n",
        "print(f\"Acurácia direcional (ARIMA): {acc_arima:.2f}\")\n",
        "print(\"Matriz de confusão (ARIMA):\")\n",
        "print(cm_arima)"
      ]
    },
    {
      "cell_type": "markdown",
      "metadata": {
        "id": "dSQDU-s6ZXXA"
      },
      "source": [
        "###  **5.2.3 ARIMAX (ARIMA COM VARIÁVEIS EXÓGENAS)**\n",
        "\n",
        "O modelo ARIMAX é uma extensão do ARIMA que incorpora variáveis exógenas, permitindo capturar a influência de indicadores externos ao fechamento, como médias móveis, volatilidade, RSI e momentum.\n",
        "O uso dessas features aumenta o poder explicativo do modelo e ajuda a identificar relações entre variáveis técnicas e a direção do índice.\n"
      ]
    },
    {
      "cell_type": "markdown",
      "metadata": {
        "id": "dvkcma5bZnr1"
      },
      "source": [
        "#### 5.2.3.1 Definição do modelo, treino e predição"
      ]
    },
    {
      "cell_type": "code",
      "execution_count": null,
      "metadata": {
        "colab": {
          "background_save": true
        },
        "id": "BanM_HpHYzS1"
      },
      "outputs": [],
      "source": [
        "# Definição dos parâmetros (mantidos conforme o modelo validado)\n",
        "order = (2, 1, 2)\n",
        "\n",
        "# Histórico inicial\n",
        "history_y = list(y_train)\n",
        "history_X = X_train_exog.values.tolist()\n",
        "pred_close_arimax = []\n",
        "\n",
        "# Loop recursivo de previsão (sem vazamento)\n",
        "for t in range(len(y_test)):\n",
        "    model = ARIMA(history_y, order=order, exog=np.array(history_X))\n",
        "    result = model.fit()\n",
        "\n",
        "    # Previsão de um passo à frente\n",
        "    exog_next = X_test_exog.iloc[t].values.reshape(1, -1)\n",
        "    yhat = result.forecast(steps=1, exog=exog_next)[0]\n",
        "    pred_close_arimax.append(yhat)\n",
        "\n",
        "    # Atualização do histórico\n",
        "    history_y.append(y_test.iloc[t])\n",
        "    history_X.append(exog_next.flatten().tolist())\n",
        "\n",
        "# Conversão para arrays\n",
        "pred_close_arimax = np.array(pred_close_arimax)\n",
        "true_close = y_test.values"
      ]
    },
    {
      "cell_type": "code",
      "execution_count": null,
      "metadata": {
        "colab": {
          "background_save": true
        },
        "id": "MXXSWBDgaCSa"
      },
      "outputs": [],
      "source": [
        "close_prev = pd.concat([y_train.iloc[[-1]], y_test.iloc[:-1]]).values\n",
        "pred_dir = (pred_close_arimax > close_prev).astype(int)\n",
        "true_dir = (true_close > close_prev).astype(int)"
      ]
    },
    {
      "cell_type": "code",
      "execution_count": null,
      "metadata": {
        "colab": {
          "background_save": true
        },
        "id": "zeVbafIEeXKb",
        "outputId": "8c5d8f12-da78-499d-b7ae-ef039af98489"
      },
      "outputs": [
        {
          "name": "stdout",
          "output_type": "stream",
          "text": [
            "Acurácia direcional (ARIMAX): 0.73\n",
            "Matriz de confusão (ARIMAX):\n",
            "[[10  4]\n",
            " [ 4 12]]\n"
          ]
        }
      ],
      "source": [
        "acc_arimax = accuracy_score(true_dir, pred_dir)\n",
        "cm_arimax = confusion_matrix(true_dir, pred_dir)\n",
        "\n",
        "# Exibição dos resultados\n",
        "print(f\"Acurácia direcional (ARIMAX): {acc_arimax:.2f}\")\n",
        "print(\"Matriz de confusão (ARIMAX):\")\n",
        "print(cm_arimax)"
      ]
    },
    {
      "cell_type": "markdown",
      "metadata": {
        "id": "H-PIAiziiKoM"
      },
      "source": [
        "# 6. Comparação entre os Modelos\n",
        "\n",
        "Consolidação dos resultados dos modelos KNN, Random Forest, ARIMA e ARIMAX para identificação de qual teve a melhor perfomance para predizer se o fechamento da bolsa terá alta ou baixa no dia seguinte."
      ]
    },
    {
      "cell_type": "code",
      "execution_count": 231,
      "metadata": {
        "colab": {
          "base_uri": "https://localhost:8080/",
          "height": 279
        },
        "id": "9EjrtOpUj6nP",
        "outputId": "eded37aa-368f-442a-c5ec-f95a4987942e"
      },
      "outputs": [
        {
          "output_type": "stream",
          "name": "stdout",
          "text": [
            "Verificação de métricas carregadas:\n",
            "Acurácia KNN: 0.73\n",
            "Acurácia Random Forest: 0.60\n",
            "Acurácia ARIMA: 0.62\n",
            "Acurácia ARIMAX: 0.73\n",
            "------------------------------------------------------------\n"
          ]
        },
        {
          "output_type": "display_data",
          "data": {
            "text/plain": [
              "<pandas.io.formats.style.Styler at 0x7b0840b6d5b0>"
            ],
            "text/html": [
              "<style type=\"text/css\">\n",
              "</style>\n",
              "<table id=\"T_1395a\" class=\"dataframe\">\n",
              "  <thead>\n",
              "    <tr>\n",
              "      <th class=\"blank level0\" >&nbsp;</th>\n",
              "      <th id=\"T_1395a_level0_col0\" class=\"col_heading level0 col0\" >Modelo</th>\n",
              "      <th id=\"T_1395a_level0_col1\" class=\"col_heading level0 col1\" >Acurácia Direcional</th>\n",
              "      <th id=\"T_1395a_level0_col2\" class=\"col_heading level0 col2\" >F1-Score</th>\n",
              "    </tr>\n",
              "  </thead>\n",
              "  <tbody>\n",
              "    <tr>\n",
              "      <th id=\"T_1395a_level0_row0\" class=\"row_heading level0 row0\" >0</th>\n",
              "      <td id=\"T_1395a_row0_col0\" class=\"data row0 col0\" >KNN (k=9)</td>\n",
              "      <td id=\"T_1395a_row0_col1\" class=\"data row0 col1\" >73.33%</td>\n",
              "      <td id=\"T_1395a_row0_col2\" class=\"data row0 col2\" >0.75</td>\n",
              "    </tr>\n",
              "    <tr>\n",
              "      <th id=\"T_1395a_level0_row1\" class=\"row_heading level0 row1\" >1</th>\n",
              "      <td id=\"T_1395a_row1_col0\" class=\"data row1 col0\" >ARIMAX</td>\n",
              "      <td id=\"T_1395a_row1_col1\" class=\"data row1 col1\" >73.33%</td>\n",
              "      <td id=\"T_1395a_row1_col2\" class=\"data row1 col2\" >nan</td>\n",
              "    </tr>\n",
              "    <tr>\n",
              "      <th id=\"T_1395a_level0_row2\" class=\"row_heading level0 row2\" >2</th>\n",
              "      <td id=\"T_1395a_row2_col0\" class=\"data row2 col0\" >ARIMA</td>\n",
              "      <td id=\"T_1395a_row2_col1\" class=\"data row2 col1\" >62.07%</td>\n",
              "      <td id=\"T_1395a_row2_col2\" class=\"data row2 col2\" >nan</td>\n",
              "    </tr>\n",
              "    <tr>\n",
              "      <th id=\"T_1395a_level0_row3\" class=\"row_heading level0 row3\" >3</th>\n",
              "      <td id=\"T_1395a_row3_col0\" class=\"data row3 col0\" >Random Forest</td>\n",
              "      <td id=\"T_1395a_row3_col1\" class=\"data row3 col1\" >60.00%</td>\n",
              "      <td id=\"T_1395a_row3_col2\" class=\"data row3 col2\" >0.70</td>\n",
              "    </tr>\n",
              "  </tbody>\n",
              "</table>\n"
            ]
          },
          "metadata": {}
        }
      ],
      "source": [
        "import pandas as pd\n",
        "import seaborn as sns\n",
        "import matplotlib.pyplot as plt\n",
        "\n",
        "# Checagem das métricas calculadas anteriormente\n",
        "print(\"Verificação de métricas carregadas:\")\n",
        "print(f\"Acurácia KNN: {acc_knn:.2f}\")\n",
        "print(f\"Acurácia Random Forest: {acc_rf:.2f}\")\n",
        "print(f\"Acurácia ARIMA: {acc_arima:.2f}\")\n",
        "print(f\"Acurácia ARIMAX: {acc_arimax:.2f}\")\n",
        "print(\"-\" * 60)\n",
        "\n",
        "# Criação da tabela consolidada de resultados\n",
        "resultados_modelos = pd.DataFrame({\n",
        "    'Modelo': [\n",
        "        f'KNN (k={melhor_k})',\n",
        "        'Random Forest',\n",
        "        'ARIMA',\n",
        "        'ARIMAX'\n",
        "    ],\n",
        "    'Acurácia Direcional': [\n",
        "        acc_knn,\n",
        "        acc_rf,\n",
        "        acc_arima,\n",
        "        acc_arimax\n",
        "    ],\n",
        "    'F1-Score': [\n",
        "        f1_knn,\n",
        "        f1_rf,\n",
        "        None,\n",
        "        None\n",
        "    ]})\n",
        "\n",
        "# Ordenação decrescente\n",
        "resultados_modelos = resultados_modelos.sort_values(\n",
        "    by='Acurácia Direcional', ascending=False\n",
        ").reset_index(drop=True)\n",
        "\n",
        "# Exibição\n",
        "display(\n",
        "    resultados_modelos.style.format({\n",
        "        'Acurácia Direcional': '{:.2%}',\n",
        "        'F1-Score': '{:.2f}'\n",
        "    }))\n",
        "\n"
      ]
    },
    {
      "cell_type": "code",
      "source": [
        "import matplotlib.ticker as mticker\n",
        "\n",
        "plt.figure(figsize=(8, 4))\n",
        "ax = sns.barplot(\n",
        "    x='Acurácia Direcional',\n",
        "    y='Modelo',\n",
        "    data=resultados_modelos,\n",
        "    palette='Blues_d')\n",
        "\n",
        "for container in ax.containers:\n",
        "    ax.bar_label(\n",
        "        container,\n",
        "        labels=[f'{v*100:.2f}%' for v in container.datavalues],\n",
        "        label_type='center',\n",
        "        fontsize=10,\n",
        "        color='white',\n",
        "        weight='bold')\n",
        "\n",
        "# Linha de meta (75%)\n",
        "meta = 0.75\n",
        "plt.axvline(meta, color='red', linestyle='--', linewidth=2, label=f'Meta {meta*100:.0f}%')\n",
        "\n",
        "# Ajustes visuais\n",
        "plt.title('Comparativo Final de Modelos (KNN, Random Forest, ARIMA, ARIMAX)', fontsize=12)\n",
        "plt.xlabel('Acurácia Direcional')\n",
        "plt.ylabel('Modelo')\n",
        "plt.xlim(0, 1)\n",
        "plt.legend()\n",
        "plt.grid(axis='x', alpha=0.3)\n",
        "plt.tight_layout()\n",
        "ax.xaxis.set_major_formatter(mticker.PercentFormatter(1.0))\n",
        "plt.show()"
      ],
      "metadata": {
        "colab": {
          "base_uri": "https://localhost:8080/",
          "height": 407
        },
        "id": "9Ia__vjuxqRV",
        "outputId": "0e284581-6b76-424a-97d7-5636da2f627f"
      },
      "execution_count": 230,
      "outputs": [
        {
          "output_type": "display_data",
          "data": {
            "text/plain": [
              "<Figure size 800x400 with 1 Axes>"
            ],
            "image/png": "[encoded data removed]"
          },
          "metadata": {}
        }
      ]
    },
    {
      "cell_type": "code",
      "execution_count": null,
      "metadata": {
        "colab": {
          "background_save": true
        },
        "id": "nV53V5NCktGp"
      },
      "outputs": [],
      "source": []
    }
  ],
  "metadata": {
    "colab": {
      "provenance": [],
      "authorship_tag": "ABX9TyOaxQCVfR8l1tzuBb577EPb",
      "include_colab_link": true
    },
    "kernelspec": {
      "display_name": "Python 3",
      "name": "python3"
    },
    "language_info": {
      "name": "python"
    }
  },
  "nbformat": 4,
  "nbformat_minor": 0
}